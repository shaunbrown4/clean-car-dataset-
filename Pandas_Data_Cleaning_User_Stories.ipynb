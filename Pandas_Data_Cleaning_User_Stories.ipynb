{
 "cells": [
  {
   "cell_type": "markdown",
   "metadata": {},
   "source": [
    "## Project: Data Cleaning with Pandas\n",
    "\n",
    "#### Below will be a series of user stories, followed by an empty Python code block\n",
    "* These user stories will go through the process of importing, cleaning, and exporting the included `dirty_cars_dataset.csv` file\n",
    "* Be sure to read each question carefully, and to test and debug your code to ensure the user story is completed correctly!\n"
   ]
  },
  {
   "cell_type": "markdown",
   "metadata": {},
   "source": [
    "### As a Data Analyst, I want to set up the proper imports so I have access to the Pandas library"
   ]
  },
  {
   "cell_type": "code",
   "execution_count": null,
   "metadata": {},
   "outputs": [],
   "source": []
  },
  {
   "cell_type": "markdown",
   "metadata": {},
   "source": [
    "### As a Data Analyst, I want to import and store the `dirty_cars_dataset.csv` file in a variable\n",
    "✅ I want to use the `index` column from this .csv file as the `index column` of my DataFrame"
   ]
  },
  {
   "cell_type": "code",
   "execution_count": null,
   "metadata": {},
   "outputs": [],
   "source": []
  },
  {
   "cell_type": "markdown",
   "metadata": {},
   "source": [
    "### As a Data Analyst, I want to view the **information** about my new DataFrame to answer the following questions:\n",
    "##### Enter your responses in the Markdown block below"
   ]
  },
  {
   "cell_type": "markdown",
   "metadata": {},
   "source": [
    "* How many entries are in this DataFrame: \n",
    "* How many columns are in this DataFrame:\n",
    "* Which column(s) contain null values in this DataFrame:"
   ]
  },
  {
   "cell_type": "code",
   "execution_count": null,
   "metadata": {},
   "outputs": [],
   "source": []
  },
  {
   "cell_type": "markdown",
   "metadata": {},
   "source": [
    "### As a Data Analyst, I want to to remove any null values from the DataFrame\n",
    "✅ I want to **create a new DataFrame variable** when I remove these null values<br>\n",
    "✅ Then, I want to display the **information** about my new DataFrame, to confirm the null values were successfully removed"
   ]
  },
  {
   "cell_type": "code",
   "execution_count": null,
   "metadata": {},
   "outputs": [],
   "source": []
  },
  {
   "cell_type": "markdown",
   "metadata": {},
   "source": [
    "### As a Data Analyst, I want to check if there are any **duplicate rows** within my DataFrame"
   ]
  },
  {
   "cell_type": "code",
   "execution_count": null,
   "metadata": {},
   "outputs": [],
   "source": []
  },
  {
   "cell_type": "markdown",
   "metadata": {},
   "source": [
    "### As a Data Analyst, I want to **remove** any duplicate values from the DataFrame\n",
    "✅ I want to **create a new DataFrame variable** when I remove these duplicate values<br>\n",
    "✅ I want to again check if there are any duplicate rows within my DataFrame, to ensure the values were removed successfully"
   ]
  },
  {
   "cell_type": "code",
   "execution_count": null,
   "metadata": {},
   "outputs": [],
   "source": []
  },
  {
   "cell_type": "markdown",
   "metadata": {},
   "source": [
    "### As a Data Analyst, I want to ensure I remove any outlier values from my DataFrame to avoid inaccurate analysis of my data\n",
    "✅I want to **create a new DataFrame variable** when I remove these values<br><br>\n",
    "💡 **Hint:** These inaccuracies will be within the `price` column 💡<br><br>\n",
    "💡 **Hint** There will be both **high** and **low** outlier values 💡"
   ]
  },
  {
   "cell_type": "code",
   "execution_count": null,
   "metadata": {},
   "outputs": [],
   "source": [
    "# Removing high outlier values"
   ]
  },
  {
   "cell_type": "code",
   "execution_count": null,
   "metadata": {},
   "outputs": [],
   "source": [
    "# Removing low outlier values"
   ]
  },
  {
   "cell_type": "markdown",
   "metadata": {},
   "source": [
    "### As a Data Analyst, I want to reformat the **company** series, ensuring all company name values are properly title (Pascal) cased"
   ]
  },
  {
   "cell_type": "code",
   "execution_count": null,
   "metadata": {},
   "outputs": [],
   "source": []
  },
  {
   "cell_type": "markdown",
   "metadata": {},
   "source": [
    "### As a Data Analyst, I want to create a ***new*** column on my DataFrame to represent the **price of each car in Euros**\n",
    "💡 **Use the conversion rate 1.05 USD == 1 Euro** 💡"
   ]
  },
  {
   "cell_type": "code",
   "execution_count": null,
   "metadata": {},
   "outputs": [],
   "source": []
  },
  {
   "cell_type": "markdown",
   "metadata": {},
   "source": [
    "### As a Data Analyst, I want to rename the existing **price** column to show that it represents **price in USD**"
   ]
  },
  {
   "cell_type": "code",
   "execution_count": null,
   "metadata": {},
   "outputs": [],
   "source": []
  },
  {
   "cell_type": "markdown",
   "metadata": {},
   "source": [
    "### As a Data Analyst, I want to output my cleaned DataFrame as a .csv file\n",
    "✅ I want to name this file `cleaned_cars_dataset.csv`<br>\n",
    "✅ I want to specify the encoding type 'utf-8'<br>\n",
    "✅ I want to include this .csv file in my GitHub repository"
   ]
  },
  {
   "cell_type": "code",
   "execution_count": null,
   "metadata": {},
   "outputs": [],
   "source": []
  }
 ],
 "metadata": {
  "kernelspec": {
   "display_name": "Python 3.10.5 64-bit",
   "language": "python",
   "name": "python3"
  },
  "language_info": {
   "codemirror_mode": {
    "name": "ipython",
    "version": 3
   },
   "file_extension": ".py",
   "mimetype": "text/x-python",
   "name": "python",
   "nbconvert_exporter": "python",
   "pygments_lexer": "ipython3",
   "version": "3.10.5"
  },
  "orig_nbformat": 4,
  "vscode": {
   "interpreter": {
    "hash": "991b4f12e3cd7e62d84ec965b56412c4354ac1fe6297d96f50a80e713193dd77"
   }
  }
 },
 "nbformat": 4,
 "nbformat_minor": 2
}
